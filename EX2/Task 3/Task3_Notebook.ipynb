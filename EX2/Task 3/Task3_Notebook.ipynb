{
 "cells": [
  {
   "cell_type": "code",
   "execution_count": 1,
   "id": "ba6cd735",
   "metadata": {},
   "outputs": [],
   "source": [
    "import os\n",
    "import numpy as np\n",
    "from loader import *"
   ]
  },
  {
   "cell_type": "markdown",
   "id": "e4678d4a",
   "metadata": {},
   "source": [
    "### 1. Initial the path"
   ]
  },
  {
   "cell_type": "code",
   "execution_count": 2,
   "id": "1bab8320",
   "metadata": {},
   "outputs": [],
   "source": [
    "root_path = os.path.abspath(os.getcwd()) \n",
    "output_dir = os.path.join(root_path,\"output\")\n",
    "console_path = os.path.join(root_path, \"vadere-console.jar\")"
   ]
  },
  {
   "cell_type": "markdown",
   "id": "b866d2d8",
   "metadata": {},
   "source": [
    "### 2. Generate the corner scenario file path"
   ]
  },
  {
   "cell_type": "code",
   "execution_count": 3,
   "id": "dc2af5d3",
   "metadata": {},
   "outputs": [],
   "source": [
    "def scenario_file_path(file_name):\n",
    "     return os.path.join(root_path,file_name)\n",
    "    \n",
    "scenario_file = scenario_file_path(\"corner_scenario.scenario\")\n"
   ]
  },
  {
   "cell_type": "markdown",
   "id": "aa79b04d",
   "metadata": {},
   "source": [
    "### 3. Start the console and run the corner scenario file"
   ]
  },
  {
   "cell_type": "code",
   "execution_count": 4,
   "id": "4bdc991b",
   "metadata": {},
   "outputs": [
    {
     "name": "stdout",
     "output_type": "stream",
     "text": [
      "java -jar /Users/diyun/Desktop/task3/vadere/vadere-console.jar scenario-run --scenario-file /Users/diyun/Desktop/task3/vadere/corner_scenario.scenario --output-dir=/Users/diyun/Desktop/task3/vadere/output\n",
      "WARNING: sun.reflect.Reflection.getCallerClass is not supported. This will impact performance.\n",
      "11:34:07,003   INFO ScenarioRunSubCommand:52 - Created output directory: /Users/diyun/Desktop/task3/vadere/output\n",
      "11:34:07,457   INFO JsonMigrationAssistant:83 - >> analyzing JSON tree of scenario <corner_scenario>\n",
      "11:34:07,458   INFO JsonMigrationAssistant:103 - Nothing to do current version and target version match\n",
      "11:34:08,587   INFO VadereConfig:66 - Use config file from path /Users/diyun/.config/vadere.conf\n",
      "11:34:08,975   INFO ScenarioCache:85 - Cache search location: /Users/diyun/Desktop/task3/vadere/__cache__\n",
      "11:34:08,992   INFO ScenarioRun:147 - Initializing scenario: corner_scenario...\n",
      "11:34:09,007   INFO ScenarioRun:128 - scenario context initialized.\n",
      "11:34:09,012   INFO ScenarioRun:229 - no mesh corner_scenario.poly was found.\n",
      "11:34:09,012   INFO ScenarioRun:229 - no mesh corner_scenario_background.poly was found.\n",
      "11:34:09,569   INFO PotentialFieldDistancesBruteForce:49 - solve floor field (PotentialFieldDistancesBruteForce)\n",
      "11:34:09,602   INFO PotentialFieldDistancesBruteForce:106 - Progress:  0% -> 0/160801 [points]\n",
      "11:34:09,820   INFO PotentialFieldDistancesBruteForce:106 - Progress: 10% -> 16081/160801 [points]\n",
      "11:34:09,888   INFO PotentialFieldDistancesBruteForce:106 - Progress: 20% -> 32161/160801 [points]\n",
      "11:34:09,950   INFO PotentialFieldDistancesBruteForce:106 - Progress: 30% -> 48241/160801 [points]\n",
      "11:34:10,030   INFO PotentialFieldDistancesBruteForce:106 - Progress: 40% -> 64321/160801 [points]\n",
      "11:34:10,094   INFO PotentialFieldDistancesBruteForce:106 - Progress: 50% -> 80401/160801 [points]\n",
      "11:34:10,124   INFO PotentialFieldDistancesBruteForce:106 - Progress: 60% -> 96481/160801 [points]\n",
      "11:34:10,175   INFO PotentialFieldDistancesBruteForce:106 - Progress: 70% -> 112561/160801 [points]\n",
      "11:34:10,241   INFO PotentialFieldDistancesBruteForce:106 - Progress: 80% -> 128641/160801 [points]\n",
      "11:34:10,280   INFO PotentialFieldDistancesBruteForce:106 - Progress: 90% -> 144721/160801 [points]\n",
      "11:34:10,322   INFO PotentialFieldDistancesBruteForce:96 - floor field initialization time:748[ms]\n",
      "11:34:10,330   INFO Topography:428 - Set PedestrianIdCount to start value: 1\n",
      "11:34:10,707   INFO EikonalSolverDefaultProvider:23 - floor field initialization time:226[ms]\n",
      "11:34:10,708   INFO Simulation:277 - preLoop finished.\n",
      "11:34:14,433   INFO OutputFile:109 - Absolute file name/Users/diyun/Desktop/task3/vadere/output/corner_scenario_2023-05-13_11-34-08.991/postvis.traj\n",
      "11:34:14,538   INFO OutputFile:109 - Absolute file name/Users/diyun/Desktop/task3/vadere/output/corner_scenario_2023-05-13_11-34-08.991/overlaps.csv\n",
      "11:34:14,539   INFO OutputFile:109 - Absolute file name/Users/diyun/Desktop/task3/vadere/output/corner_scenario_2023-05-13_11-34-08.991/overlapCount.txt\n",
      "11:34:14,540   INFO Simulation:251 - Finished writing all output files\n",
      "11:34:14,541   INFO Simulation:254 - Post-loop: before waitForTraci\n",
      "11:34:14,541   INFO Simulation:261 - Post-loop: finished.\n",
      "11:34:14,542   INFO ScenarioRun:207 - Simulation run finished.\n",
      "11:34:14,542   INFO ScenarioRun:265 - Simulation of scenario corner_scenario finished.\n",
      "\n"
     ]
    }
   ],
   "source": [
    "def get_console_cmd(scenario_file, output_dir):\n",
    "    mesg = \" \".join([\"java\", \"-jar\",\n",
    "                   console_path,\n",
    "                   \"scenario-run\",\n",
    "                   \"--scenario-file\",\n",
    "                   scenario_file,\n",
    "                   \"--output-dir=\"+output_dir])\n",
    "    return mesg\n",
    "\n",
    "scenario_file = scenario_file_path(\"corner_scenario.scenario\")\n",
    "output_dir = os.path.join(root_path,\"output\")\n",
    "\n",
    "cmd=get_console_cmd(scenario_file, output_dir)\n",
    "print(cmd)\n",
    "\n",
    "process = os.popen(cmd)\n",
    "print(process.read())"
   ]
  },
  {
   "cell_type": "markdown",
   "id": "39fef58b",
   "metadata": {},
   "source": [
    "### 4. Add pedestrain into the corner scenario file"
   ]
  },
  {
   "cell_type": "code",
   "execution_count": 5,
   "id": "fe047bfe",
   "metadata": {},
   "outputs": [
    {
     "name": "stdout",
     "output_type": "stream",
     "text": [
      "The scenario is saved to /Users/diyun/Desktop/task3/vadere/add_pedestrian_corner_scenario.scenario\n"
     ]
    }
   ],
   "source": [
    "## read the scenario file\n",
    "scenario_file = scenario_file_path(\"corner_scenario.scenario\")\n",
    "newScenario = loader(scenario_file)\n",
    "\n",
    "## add pedesrian\n",
    "newScenario.add_Pedestrain(x=35, y=7, id=5, targetIDs=[2])\n",
    "\n",
    "##\n",
    "output_scenario_dir = os.path.join(os.path.dirname(scenario_file))\n",
    "output_scenario_name = \"add_pedestrian_corner_scenario\"\n",
    "newScenario.save(output_scenario_dir, output_scenario_name)"
   ]
  },
  {
   "cell_type": "markdown",
   "id": "9b730eb8",
   "metadata": {},
   "source": [
    "### 5. Run the scenario with new pedestrian"
   ]
  },
  {
   "cell_type": "code",
   "execution_count": 6,
   "id": "b891718d",
   "metadata": {
    "scrolled": true
   },
   "outputs": [
    {
     "name": "stdout",
     "output_type": "stream",
     "text": [
      "java -jar /Users/diyun/Desktop/task3/vadere/vadere-console.jar scenario-run --scenario-file /Users/diyun/Desktop/task3/vadere/add_pedestrian_corner_scenario.scenario --output-dir=/Users/diyun/Desktop/task3/vadere/output\n",
      "WARNING: sun.reflect.Reflection.getCallerClass is not supported. This will impact performance.\n",
      "11:34:15,916   INFO ScenarioRunSubCommand:55 - Use output directory: /Users/diyun/Desktop/task3/vadere/output\n",
      "11:34:16,139   INFO JsonMigrationAssistant:83 - >> analyzing JSON tree of scenario <add_pedestrian_corner_scenario>\n",
      "11:34:16,139   INFO JsonMigrationAssistant:103 - Nothing to do current version and target version match\n",
      "11:34:16,963   INFO VadereConfig:66 - Use config file from path /Users/diyun/.config/vadere.conf\n",
      "11:34:17,122   INFO ScenarioCache:85 - Cache search location: /Users/diyun/Desktop/task3/vadere/__cache__\n",
      "11:34:17,133   INFO ScenarioRun:147 - Initializing scenario: add_pedestrian_corner_scenario...\n",
      "11:34:17,138   INFO ScenarioRun:128 - scenario context initialized.\n",
      "11:34:17,140   INFO ScenarioRun:229 - no mesh add_pedestrian_corner_scenario.poly was found.\n",
      "11:34:17,141   INFO ScenarioRun:229 - no mesh add_pedestrian_corner_scenario_background.poly was found.\n",
      "11:34:17,402   INFO PotentialFieldDistancesBruteForce:49 - solve floor field (PotentialFieldDistancesBruteForce)\n",
      "11:34:17,431   INFO PotentialFieldDistancesBruteForce:106 - Progress:  0% -> 0/160801 [points]\n",
      "11:34:17,681   INFO PotentialFieldDistancesBruteForce:106 - Progress: 10% -> 16081/160801 [points]\n",
      "11:34:17,756   INFO PotentialFieldDistancesBruteForce:106 - Progress: 20% -> 32161/160801 [points]\n",
      "11:34:17,845   INFO PotentialFieldDistancesBruteForce:106 - Progress: 30% -> 48241/160801 [points]\n",
      "11:34:17,901   INFO PotentialFieldDistancesBruteForce:106 - Progress: 40% -> 64321/160801 [points]\n",
      "11:34:17,927   INFO PotentialFieldDistancesBruteForce:106 - Progress: 50% -> 80401/160801 [points]\n",
      "11:34:17,959   INFO PotentialFieldDistancesBruteForce:106 - Progress: 60% -> 96481/160801 [points]\n",
      "11:34:17,986   INFO PotentialFieldDistancesBruteForce:106 - Progress: 70% -> 112561/160801 [points]\n",
      "11:34:18,050   INFO PotentialFieldDistancesBruteForce:106 - Progress: 80% -> 128641/160801 [points]\n",
      "11:34:18,091   INFO PotentialFieldDistancesBruteForce:106 - Progress: 90% -> 144721/160801 [points]\n",
      "11:34:18,161   INFO PotentialFieldDistancesBruteForce:96 - floor field initialization time:754[ms]\n",
      "11:34:18,164   INFO Topography:428 - Set PedestrianIdCount to start value: 6\n",
      "11:34:18,403   INFO EikonalSolverDefaultProvider:23 - floor field initialization time:168[ms]\n",
      "11:34:18,404   INFO Simulation:277 - preLoop finished.\n",
      "11:34:22,031   INFO OutputFile:109 - Absolute file name/Users/diyun/Desktop/task3/vadere/output/add_pedestrian_corner_scenario_2023-05-13_11-34-17.130/postvis.traj\n",
      "11:34:22,102   INFO OutputFile:109 - Absolute file name/Users/diyun/Desktop/task3/vadere/output/add_pedestrian_corner_scenario_2023-05-13_11-34-17.130/overlaps.csv\n",
      "11:34:22,103   INFO OutputFile:109 - Absolute file name/Users/diyun/Desktop/task3/vadere/output/add_pedestrian_corner_scenario_2023-05-13_11-34-17.130/overlapCount.txt\n",
      "11:34:22,104   INFO Simulation:251 - Finished writing all output files\n",
      "11:34:22,104   INFO Simulation:254 - Post-loop: before waitForTraci\n",
      "11:34:22,105   INFO Simulation:261 - Post-loop: finished.\n",
      "11:34:22,105   INFO ScenarioRun:207 - Simulation run finished.\n",
      "11:34:22,106   INFO ScenarioRun:265 - Simulation of scenario add_pedestrian_corner_scenario finished.\n",
      "\n"
     ]
    }
   ],
   "source": [
    "                                   \n",
    "scenario_file = scenario_file_path(\"add_pedestrian_corner_scenario.scenario\")\n",
    "output_dir = os.path.join(root_path,\"output\")\n",
    "\n",
    "cmd=get_console_cmd(scenario_file, output_dir)\n",
    "print(cmd)\n",
    "\n",
    "process = os.popen(cmd)\n",
    "print(process.read())"
   ]
  },
  {
   "cell_type": "code",
   "execution_count": null,
   "id": "627ee9ae",
   "metadata": {},
   "outputs": [],
   "source": []
  },
  {
   "cell_type": "code",
   "execution_count": null,
   "id": "f0223979",
   "metadata": {},
   "outputs": [],
   "source": []
  }
 ],
 "metadata": {
  "kernelspec": {
   "display_name": "Python 3",
   "language": "python",
   "name": "python3"
  },
  "language_info": {
   "codemirror_mode": {
    "name": "ipython",
    "version": 3
   },
   "file_extension": ".py",
   "mimetype": "text/x-python",
   "name": "python",
   "nbconvert_exporter": "python",
   "pygments_lexer": "ipython3",
   "version": "3.8.8"
  }
 },
 "nbformat": 4,
 "nbformat_minor": 5
}
