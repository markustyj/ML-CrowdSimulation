{
 "cells": [
  {
   "cell_type": "markdown",
   "id": "50c8dd06",
   "metadata": {},
   "source": [
    "## Import the needed libraries"
   ]
  },
  {
   "cell_type": "code",
   "execution_count": 1,
   "id": "2e61fcd9",
   "metadata": {},
   "outputs": [],
   "source": [
    "import json\n",
    "import math\n",
    "import copy\n",
    "import numpy as np\n",
    "\n",
    "import matplotlib.pyplot as plt\n",
    "from matplotlib import colors\n",
    "from matplotlib import animation"
   ]
  },
  {
   "cell_type": "markdown",
   "id": "ec4d7d70",
   "metadata": {},
   "source": [
    "## Task 1/5: Setting up the modeling environment"
   ]
  },
  {
   "cell_type": "markdown",
   "id": "97c6d059",
   "metadata": {},
   "source": [
    "### 1. Basic visualization."
   ]
  },
  {
   "cell_type": "code",
   "execution_count": 2,
   "id": "547e9bff",
   "metadata": {},
   "outputs": [],
   "source": [
    "basic_scenario = {\n",
    "    \"width\": 6,\n",
    "    \"height\": 6,\n",
    "    \"cell_size\": 1,\n",
    "    \"pedestrian_coordinates\": [{\"x\":1, \"y\":2}, {\"x\":2,\"y\":5}],\n",
    "    \"obstacle_coordinates\":[{\"x\":3, \"y\":2}],\n",
    "    \"target_coordinates\":[{\"x\":5, \"y\":4}],\n",
    "}"
   ]
  },
  {
   "cell_type": "code",
   "execution_count": 3,
   "id": "95bb3e56",
   "metadata": {},
   "outputs": [],
   "source": [
    "state_space = {\n",
    "    \"E\": 0,\n",
    "    \"P\":1,\n",
    "    \"O\":2,\n",
    "    \"T\":3,\n",
    "}"
   ]
  },
  {
   "cell_type": "code",
   "execution_count": 4,
   "id": "6a837c11",
   "metadata": {},
   "outputs": [],
   "source": [
    "# ### The reason why we need this class: \n",
    "# ### when writing the automaten class, we will need scenario_setting data again.\n",
    "# class Scenario_data:\n",
    "#     def __init__(self, scenario_setting)\n",
    "#         self.width = scenario_setting[\"width\"]\n",
    "#         self.height = scenario_setting[\"height\"]\n",
    "#         self.cell_size = scenario_setting[\"cell_size\"]\n",
    "#         self.ped_coordinates = scenario_setting[\"pedestrian_coordinates\"]\n",
    "#         self.obs_coordinates = scenario_setting[\"obstacle_coordinates\"]\n",
    "#         self.tar_coordinates = scenario_setting[\"target_coordinates\"]"
   ]
  },
  {
   "cell_type": "code",
   "execution_count": 5,
   "id": "be4ba9e5",
   "metadata": {},
   "outputs": [],
   "source": [
    "class Scenario: \n",
    "    \"\"\"\"\"\"\n",
    "    def __init__(self, scenario_setting):\n",
    "        #preprocess the json data to create basic information for grid visualization and simulation\n",
    "        self.number_of_cells_x = math.floor(scenario_setting[\"width\"]/scenario_setting[\"cell_size\"])\n",
    "        self.number_of_cells_y = math.floor(scenario_setting[\"height\"]/scenario_setting[\"cell_size\"])\n",
    "        self.ped_coordinates = scenario_setting[\"pedestrian_coordinates\"]\n",
    "        self.obs_coordinates = scenario_setting[\"obstacle_coordinates\"]\n",
    "        self.tar_coordinates = scenario_setting[\"target_coordinates\"]\n",
    "        \n",
    "        #basic attribute of a scenario\n",
    "        self.states = np.zeros((self.number_of_cells_y, self.number_of_cells_x))\n",
    "        \n",
    "        #list of pedestrian, target, obstacle position\n",
    "        self.ped_coordinates_list = []\n",
    "        self.obs_coordinates_list = []\n",
    "        self.tar_coordinates_list = []\n",
    "        \n",
    "    def add_pedestrians(self):\n",
    "        \"\"\"\"\"\"# get the list of pedestrain positions from the scenario_setting file (json)\n",
    "        for ped in self.ped_coordinates:\n",
    "            if  (ped[\"x\"]-1, ped[\"y\"]-1) not in self.ped_coordinates_list:\n",
    "                self.ped_coordinates_list.append(  (ped[\"x\"]-1,ped[\"y\"]-1) )\n",
    "                self.states[ped[\"x\"]-1, ped[\"y\"]-1] = state_space[\"P\"]\n",
    "            \n",
    "    def add_obstacles(self):\n",
    "        \"\"\"\"\"\"\n",
    "        for obs in self.obs_coordinates:\n",
    "            if  (obs[\"x\"]-1, obs[\"y\"]-1) not in self.obs_coordinates_list:\n",
    "                self.obs_coordinates_list.append(  (obs[\"x\"]-1,obs[\"y\"]-1) )\n",
    "                self.states[obs[\"x\"]-1, obs[\"y\"]-1] = state_space[\"O\"]\n",
    "            \n",
    "    def add_targets(self):    \n",
    "        \"\"\"\"\"\"\n",
    "        for tar in self.tar_coordinates:\n",
    "            if  (tar[\"x\"]-1, tar[\"y\"]-1) not in self.tar_coordinates_list:\n",
    "                self.tar_coordinates_list.append(  (tar[\"x\"]-1,tar[\"y\"]-1) )\n",
    "                self.states[tar[\"x\"]-1, tar[\"y\"]-1] = state_space[\"T\"]\n",
    "    "
   ]
  },
  {
   "cell_type": "code",
   "execution_count": 6,
   "id": "c7f6e3c6",
   "metadata": {},
   "outputs": [],
   "source": [
    "scenario = Scenario(basic_scenario)"
   ]
  },
  {
   "cell_type": "code",
   "execution_count": 7,
   "id": "9d3be504",
   "metadata": {
    "scrolled": true
   },
   "outputs": [],
   "source": [
    "scenario.add_pedestrians()\n",
    "scenario.add_obstacles()\n",
    "scenario.add_targets()"
   ]
  },
  {
   "cell_type": "code",
   "execution_count": 8,
   "id": "51d1fc2d",
   "metadata": {},
   "outputs": [
    {
     "data": {
      "text/plain": [
       "array([[0., 1., 0., 0., 0., 0.],\n",
       "       [0., 0., 0., 0., 1., 0.],\n",
       "       [0., 2., 0., 0., 0., 0.],\n",
       "       [0., 0., 0., 0., 0., 0.],\n",
       "       [0., 0., 0., 3., 0., 0.],\n",
       "       [0., 0., 0., 0., 0., 0.]])"
      ]
     },
     "execution_count": 8,
     "metadata": {},
     "output_type": "execute_result"
    }
   ],
   "source": [
    "scenario_copy = copy.copy(scenario.states)\n",
    "scenario.states"
   ]
  },
  {
   "cell_type": "code",
   "execution_count": 9,
   "id": "480bebc7",
   "metadata": {},
   "outputs": [],
   "source": [
    "def get_color_map():    \n",
    "    cmap = colors.ListedColormap(['white', 'blue', 'red', 'green']) \n",
    "    #colors represent empty, pedestrian, obstacle, target respectively\n",
    "    #bounds = [state_space[\"empty\"], state_space[\"pedestrian\"], state_space[\"obstacle\"], state_space[\"target\"]]\n",
    "    #colors.BoundaryNorm(bounds, cmap.N)\n",
    "    return cmap"
   ]
  },
  {
   "cell_type": "code",
   "execution_count": 10,
   "id": "67321406",
   "metadata": {},
   "outputs": [],
   "source": [
    "def get_text(states, ax):\n",
    "    for (i,j), state in np.ndenumerate(states): \n",
    "        if state == state_space[\"P\"]:\n",
    "            ax.text(j, i, \"P\", ha='center', va='center')\n",
    "        if state == state_space[\"O\"]:\n",
    "            ax.text(j, i, \"O\", ha='center', va='center')\n",
    "        if state == state_space[\"T\"]:\n",
    "            ax.text(j, i, \"T\", ha='center', va='center')    "
   ]
  },
  {
   "cell_type": "code",
   "execution_count": 11,
   "id": "5db201fe",
   "metadata": {},
   "outputs": [],
   "source": [
    "def get_grid(states, ax):\n",
    "    ax.tick_params(bottom=False, top=False, left=False, right=False, \n",
    "                   labelbottom=False, labelleft=False, labelright=False, labeltop=False )\n",
    "    ax.set_xticks(np.arange(-.5, states.shape[1], 1))\n",
    "    ax.set_yticks(np.arange(-.5, states.shape[0], 1))\n",
    "    ax.grid(which='major', color='gray', linestyle='-', linewidth=2)"
   ]
  },
  {
   "cell_type": "code",
   "execution_count": 12,
   "id": "d10e9031",
   "metadata": {},
   "outputs": [],
   "source": [
    "def get_plot_states(states):\n",
    "    ##The method that combines get_color_map(), get_text(), get_grid() together and visualize the states\n",
    "    #add basic figure\n",
    "    fig, ax = plt.subplots(1,1,figsize=(5,5))\n",
    "    #add color\n",
    "    ax.matshow(states, cmap=get_color_map())\n",
    "    #add text, e.g. \n",
    "    get_text(states, ax)\n",
    "    #remove labels and add grid\n",
    "    get_grid(states, ax)"
   ]
  },
  {
   "cell_type": "code",
   "execution_count": 13,
   "id": "aefbd4f0",
   "metadata": {
    "scrolled": false
   },
   "outputs": [
    {
     "data": {
      "image/png": "[encoded data removed]",
      "text/plain": [
       "<Figure size 500x500 with 1 Axes>"
      ]
     },
     "metadata": {},
     "output_type": "display_data"
    }
   ],
   "source": [
    "get_plot_states(scenario.states)"
   ]
  },
  {
   "cell_type": "code",
   "execution_count": null,
   "id": "b3429113",
   "metadata": {},
   "outputs": [],
   "source": []
  },
  {
   "cell_type": "code",
   "execution_count": 14,
   "id": "18154931",
   "metadata": {},
   "outputs": [],
   "source": [
    "def euclidean_distance(i,j,k,l):\n",
    "        return np.sqrt(   (i-k)**2 + (j-l)**2  )  #*self.scenario.number_of_cells_y"
   ]
  },
  {
   "cell_type": "code",
   "execution_count": 15,
   "id": "e871e718",
   "metadata": {},
   "outputs": [],
   "source": [
    "def cost_func(r, rmax):\n",
    "    if r < rmax:\n",
    "        return np.exp(1 / (r**2-rmax**2))\n",
    "    else:\n",
    "        return 0"
   ]
  },
  {
   "cell_type": "code",
   "execution_count": 16,
   "id": "33e61682",
   "metadata": {},
   "outputs": [
    {
     "data": {
      "text/plain": [
       "([(0, 1), (1, 4)], [(4, 3)], [(2, 1)])"
      ]
     },
     "execution_count": 16,
     "metadata": {},
     "output_type": "execute_result"
    }
   ],
   "source": [
    "scenario.ped_coordinates_list, scenario.tar_coordinates_list,scenario.obs_coordinates_list"
   ]
  },
  {
   "cell_type": "code",
   "execution_count": 17,
   "id": "025a95c3",
   "metadata": {},
   "outputs": [],
   "source": [
    "distances = np.zeros((scenario.number_of_cells_y, scenario.number_of_cells_x))"
   ]
  },
  {
   "cell_type": "code",
   "execution_count": 18,
   "id": "f1052c21",
   "metadata": {},
   "outputs": [],
   "source": [
    "k,l = scenario.tar_coordinates_list[0]\n",
    "#calculate distance to the target for each cell in the grid\n",
    "for i in range(scenario.number_of_cells_y):\n",
    "    for j in range(scenario.number_of_cells_x):\n",
    "        distances[i,j] = euclidean_distance(i,j,k,l)\n",
    "#set the obstacle to unlimited large\n",
    "for obs in scenario.obs_coordinates_list:\n",
    "    distances[obs] = 1000000\n",
    "        "
   ]
  },
  {
   "cell_type": "code",
   "execution_count": 71,
   "id": "98c00520",
   "metadata": {
    "scrolled": true
   },
   "outputs": [
    {
     "data": {
      "text/plain": [
       "array([[0., 1., 0., 0., 0., 0.],\n",
       "       [0., 0., 0., 0., 1., 0.],\n",
       "       [0., 2., 0., 0., 0., 0.],\n",
       "       [0., 0., 0., 0., 0., 0.],\n",
       "       [0., 0., 0., 3., 0., 0.],\n",
       "       [0., 0., 0., 0., 0., 0.]])"
      ]
     },
     "execution_count": 71,
     "metadata": {},
     "output_type": "execute_result"
    }
   ],
   "source": [
    "scenario = Scenario(basic_scenario)\n",
    "scenario.add_pedestrians()\n",
    "scenario.add_obstacles()\n",
    "scenario.add_targets()\n",
    "scenario.states"
   ]
  },
  {
   "cell_type": "code",
   "execution_count": 72,
   "id": "7c91ea7d",
   "metadata": {},
   "outputs": [],
   "source": [
    "class Automaton:\n",
    "    \"\"\"class to calculate distances, utilities and move the pedestrian\"\"\"\n",
    "    def __init__ (self, scenario):\n",
    "        self.scenario = scenario\n",
    "        \n",
    "        self.distances = np.zeros((scenario.number_of_cells_y, scenario.number_of_cells_x))\n",
    "        self.utility = np.zeros((scenario.number_of_cells_y, scenario.number_of_cells_x))\n",
    "        \n",
    "    def euclidean_distance(self,i,j,k,l):\n",
    "        return np.sqrt(   (i-k)**2 + (j-l)**2  )  #*self.scenario.number_of_cells_  \n",
    "    \n",
    "    def on_grid(self, i, j):\n",
    "        return -1 < i < self.scenario.number_of_cells_y and -1 < j < self.scenario.number_of_cells_x\n",
    "    \n",
    "    def reset_pedestrians_positions(self, ped_next_step):\n",
    "        #set the current value to 0\n",
    "        for ped in self.scenario.ped_coordinates_list:\n",
    "            self.scenario.states[ped[0], ped[1]] = state_space[\"E\"]   \n",
    "            self.scenario.ped_coordinates_list = []\n",
    "            \n",
    "        #set the value of the next step    \n",
    "        for ped in ped_next_step:\n",
    "            self.scenario.states[ped[0], ped[1]] = state_space[\"P\"]   \n",
    "            self.scenario.ped_coordinates_list.append(ped)\n",
    "    \n",
    "    def move_pedestrians(self):\n",
    "        neighbour_offsets = [ [-1,0], [0,1], [1,0], [0,-1], [1, 1], [-1, -1], [-1, 1], [1, -1] ]\n",
    "        #     here diagonal is probabily needed ?\n",
    "        \n",
    "        ped_next_step = []\n",
    "        for ped in self.scenario.ped_coordinates_list:\n",
    "            min_distance = 1000\n",
    "            print(ped)\n",
    "            for neighbour_offset in neighbour_offsets:\n",
    "                neighbour = np.add ([ ped[0],ped[1] ], neighbour_offset)\n",
    "                if  ( self.on_grid(neighbour[0], neighbour[1]) & (distances[neighbour[0],neighbour[1]]<min_distance) ).all(): \n",
    "                    #cell is on grid and pick the minimun distance\n",
    "                    neighbour_selected = neighbour\n",
    "                    min_distance = distances[neighbour[0], neighbour[1]]   \n",
    "            ped_next_step.append(neighbour_selected)\n",
    "            print(ped_next_step)\n",
    "            \n",
    "        self.reset_pedestrians_positions(ped_next_step)\n",
    "        "
   ]
  },
  {
   "cell_type": "code",
   "execution_count": 73,
   "id": "b3983ac2",
   "metadata": {},
   "outputs": [],
   "source": [
    "automaton = Automaton(scenario)"
   ]
  },
  {
   "cell_type": "code",
   "execution_count": 74,
   "id": "5ddeb47b",
   "metadata": {},
   "outputs": [],
   "source": [
    "def simulation_multiple_steps(timesteps = None):\n",
    "    \"\"\"\"\"\"\n",
    "    reach_target = False\n",
    "    data_scenario_states = []\n",
    "\n",
    "    if timesteps == None:\n",
    "        timesteps = scenario.number_of_cells_y * scenario.number_of_cells_x\n",
    "    for k in range(timesteps):\n",
    "        data_scenario_states.append(np.copy(scenario.states))\n",
    "        # check whether all pedestrians reach targets\n",
    "        if k == 0:\n",
    "            automaton.move_pedestrians()\n",
    "        elif ((scenario.states == data_scenario_states[-2]) & (k>=1)).all():\n",
    "            print(\"Simulation stopped after\", k + 1 ,\"simulation steps, since all pedestrians are already at their target.\")\n",
    "            break\n",
    "        else:\n",
    "            automaton.move_pedestrians()\n",
    "\n",
    "    print(\"Finished simulating\", k + 1 ,\"simulation steps.\")\n",
    "\n",
    "    return data_scenario_states\n",
    "        "
   ]
  },
  {
   "cell_type": "code",
   "execution_count": 76,
   "id": "b41acb52",
   "metadata": {},
   "outputs": [
    {
     "name": "stdout",
     "output_type": "stream",
     "text": [
      "(0, 1)\n",
      "[array([1, 2])]\n",
      "(1, 4)\n",
      "[array([1, 2]), array([2, 3])]\n",
      "[1 2]\n",
      "[array([2, 3])]\n",
      "[2 3]\n",
      "[array([2, 3]), array([3, 3])]\n",
      "[2 3]\n",
      "[array([3, 3])]\n",
      "[3 3]\n",
      "[array([3, 3]), array([4, 3])]\n",
      "[3 3]\n",
      "[array([4, 3])]\n",
      "[4 3]\n",
      "[array([4, 3]), array([3, 3])]\n",
      "Simulation stopped after 5 simulation steps, since all pedestrians are already at their target.\n",
      "Finished simulating 5 simulation steps.\n"
     ]
    },
    {
     "data": {
      "text/plain": [
       "[array([[0., 1., 0., 0., 0., 0.],\n",
       "        [0., 0., 0., 0., 1., 0.],\n",
       "        [0., 2., 0., 0., 0., 0.],\n",
       "        [0., 0., 0., 0., 0., 0.],\n",
       "        [0., 0., 0., 3., 0., 0.],\n",
       "        [0., 0., 0., 0., 0., 0.]]),\n",
       " array([[0., 0., 0., 0., 0., 0.],\n",
       "        [0., 0., 1., 0., 0., 0.],\n",
       "        [0., 2., 0., 1., 0., 0.],\n",
       "        [0., 0., 0., 0., 0., 0.],\n",
       "        [0., 0., 0., 3., 0., 0.],\n",
       "        [0., 0., 0., 0., 0., 0.]]),\n",
       " array([[0., 0., 0., 0., 0., 0.],\n",
       "        [0., 0., 0., 0., 0., 0.],\n",
       "        [0., 2., 0., 1., 0., 0.],\n",
       "        [0., 0., 0., 1., 0., 0.],\n",
       "        [0., 0., 0., 3., 0., 0.],\n",
       "        [0., 0., 0., 0., 0., 0.]]),\n",
       " array([[0., 0., 0., 0., 0., 0.],\n",
       "        [0., 0., 0., 0., 0., 0.],\n",
       "        [0., 2., 0., 0., 0., 0.],\n",
       "        [0., 0., 0., 1., 0., 0.],\n",
       "        [0., 0., 0., 1., 0., 0.],\n",
       "        [0., 0., 0., 0., 0., 0.]]),\n",
       " array([[0., 0., 0., 0., 0., 0.],\n",
       "        [0., 0., 0., 0., 0., 0.],\n",
       "        [0., 2., 0., 0., 0., 0.],\n",
       "        [0., 0., 0., 1., 0., 0.],\n",
       "        [0., 0., 0., 1., 0., 0.],\n",
       "        [0., 0., 0., 0., 0., 0.]])]"
      ]
     },
     "execution_count": 76,
     "metadata": {},
     "output_type": "execute_result"
    }
   ],
   "source": [
    "simulation_scenario_states = simulation_multiple_steps()\n",
    "simulation_scenario_states "
   ]
  },
  {
   "cell_type": "code",
   "execution_count": 77,
   "id": "b6c28403",
   "metadata": {},
   "outputs": [],
   "source": [
    "def get_plot_all_simulation_states(simulation_scenario_states, scenario):\n",
    "    fig, ax = plt.subplots(1,1, figsize=(5,5))\n",
    "    plot = plt.matshow(simulation_scenario_states[0], fignum=0, cmap=get_color_map())\n",
    "    add_grid_and_remove_ticks(data[0], ax)\n",
    "    ...\n",
    "    "
   ]
  },
  {
   "cell_type": "code",
   "execution_count": 25,
   "id": "468de447",
   "metadata": {},
   "outputs": [
    {
     "data": {
      "text/plain": [
       "[]"
      ]
     },
     "execution_count": 25,
     "metadata": {},
     "output_type": "execute_result"
    }
   ],
   "source": [
    "a = [1,2]\n",
    "a = []\n",
    "a"
   ]
  },
  {
   "cell_type": "code",
   "execution_count": null,
   "id": "6a8865d2",
   "metadata": {},
   "outputs": [],
   "source": []
  }
 ],
 "metadata": {
  "kernelspec": {
   "display_name": "Python 3 (ipykernel)",
   "language": "python",
   "name": "python3"
  },
  "language_info": {
   "codemirror_mode": {
    "name": "ipython",
    "version": 3
   },
   "file_extension": ".py",
   "mimetype": "text/x-python",
   "name": "python",
   "nbconvert_exporter": "python",
   "pygments_lexer": "ipython3",
   "version": "3.10.6"
  }
 },
 "nbformat": 4,
 "nbformat_minor": 5
}
